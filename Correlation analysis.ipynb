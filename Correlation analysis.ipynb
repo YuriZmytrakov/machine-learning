{
 "cells": [
  {
   "cell_type": "code",
   "execution_count": 6,
   "metadata": {},
   "outputs": [],
   "source": [
    "import pandas as pd\n",
    "import numpy as np\n",
    "import scipy.stats as ss"
   ]
  },
  {
   "cell_type": "code",
   "execution_count": 7,
   "metadata": {},
   "outputs": [],
   "source": [
    "X = [1,2,3,4,5,6,7,8,9,10,11,12,13]\n",
    "Y = [7,8,8,11,10,11,12,15,20,14,16,15,19]\n",
    "\n",
    "df_xy = pd.DataFrame({'X': X,'Y': Y})"
   ]
  },
  {
   "cell_type": "code",
   "execution_count": 8,
   "metadata": {},
   "outputs": [
    {
     "data": {
      "text/html": [
       "<div>\n",
       "<style scoped>\n",
       "    .dataframe tbody tr th:only-of-type {\n",
       "        vertical-align: middle;\n",
       "    }\n",
       "\n",
       "    .dataframe tbody tr th {\n",
       "        vertical-align: top;\n",
       "    }\n",
       "\n",
       "    .dataframe thead th {\n",
       "        text-align: right;\n",
       "    }\n",
       "</style>\n",
       "<table border=\"1\" class=\"dataframe\">\n",
       "  <thead>\n",
       "    <tr style=\"text-align: right;\">\n",
       "      <th></th>\n",
       "      <th>X</th>\n",
       "      <th>Y</th>\n",
       "    </tr>\n",
       "  </thead>\n",
       "  <tbody>\n",
       "    <tr>\n",
       "      <th>X</th>\n",
       "      <td>1.000000</td>\n",
       "      <td>0.887636</td>\n",
       "    </tr>\n",
       "    <tr>\n",
       "      <th>Y</th>\n",
       "      <td>0.887636</td>\n",
       "      <td>1.000000</td>\n",
       "    </tr>\n",
       "  </tbody>\n",
       "</table>\n",
       "</div>"
      ],
      "text/plain": [
       "          X         Y\n",
       "X  1.000000  0.887636\n",
       "Y  0.887636  1.000000"
      ]
     },
     "execution_count": 8,
     "metadata": {},
     "output_type": "execute_result"
    }
   ],
   "source": [
    "# use pandas functions to calculate pearson correlation\n",
    "df_xy.corr('pearson')"
   ]
  },
  {
   "cell_type": "code",
   "execution_count": 9,
   "metadata": {},
   "outputs": [
    {
     "data": {
      "text/html": [
       "<div>\n",
       "<style scoped>\n",
       "    .dataframe tbody tr th:only-of-type {\n",
       "        vertical-align: middle;\n",
       "    }\n",
       "\n",
       "    .dataframe tbody tr th {\n",
       "        vertical-align: top;\n",
       "    }\n",
       "\n",
       "    .dataframe thead th {\n",
       "        text-align: right;\n",
       "    }\n",
       "</style>\n",
       "<table border=\"1\" class=\"dataframe\">\n",
       "  <thead>\n",
       "    <tr style=\"text-align: right;\">\n",
       "      <th></th>\n",
       "      <th>X</th>\n",
       "      <th>Y</th>\n",
       "    </tr>\n",
       "  </thead>\n",
       "  <tbody>\n",
       "    <tr>\n",
       "      <th>X</th>\n",
       "      <td>1.000000</td>\n",
       "      <td>0.907594</td>\n",
       "    </tr>\n",
       "    <tr>\n",
       "      <th>Y</th>\n",
       "      <td>0.907594</td>\n",
       "      <td>1.000000</td>\n",
       "    </tr>\n",
       "  </tbody>\n",
       "</table>\n",
       "</div>"
      ],
      "text/plain": [
       "          X         Y\n",
       "X  1.000000  0.907594\n",
       "Y  0.907594  1.000000"
      ]
     },
     "execution_count": 9,
     "metadata": {},
     "output_type": "execute_result"
    }
   ],
   "source": [
    "# use pandas functions to calculate spearman correlation\n",
    "df_xy.corr('spearman')"
   ]
  },
  {
   "cell_type": "code",
   "execution_count": 10,
   "metadata": {},
   "outputs": [],
   "source": [
    "import math # for sqrt function\n",
    "\n",
    "def GetCorrelation_pearson(gvx, gvy):\n",
    "    t_dxMean = np.mean(gvx)\n",
    "    t_dyMean = np.mean(gvy)\n",
    "    \n",
    "    t_dNominator = 0\n",
    "    for i in range(len(gvx)):\n",
    "        t_dNominator += (gvx[i]-t_dxMean)*(gvy[i]-t_dyMean)\n",
    "    \n",
    "    t_dDenominator_x = 0\n",
    "    for i in range(len(gvx)):\n",
    "        t_dDenominator_x += (gvx[i]-t_dxMean)*(gvx[i]-t_dxMean)\n",
    "    t_dDenominator_x = math.sqrt(t_dDenominator_x)\n",
    "    \n",
    "    t_dDenominator_y = 0\n",
    "    for i in range(len(gvx)):\n",
    "        t_dDenominator_y += (gvy[i]-t_dyMean)*(gvy[i]-t_dyMean)\n",
    "    t_dDenominator_y = math.sqrt(t_dDenominator_y)\n",
    "    \n",
    "    return t_dNominator/(t_dDenominator_x*t_dDenominator_y)"
   ]
  },
  {
   "cell_type": "code",
   "execution_count": 11,
   "metadata": {},
   "outputs": [],
   "source": [
    "# you can use scipy.stats function rankdata() to rank the values in a given vector\n",
    "def GetCorrelation_spearman(gvx, gvy):\n",
    "    t_vRank_x = ss.rankdata(gvx)\n",
    "    t_vRank_y = ss.rankdata(gvy)\n",
    "    t_vd = t_vRank_x - t_vRank_y\n",
    "    t_dNominator = 6*sum([d**2 for d in t_vd])\n",
    "    t_dDenominator = len(gvx)*(len(gvx)**2-1)\n",
    "    return 1-(t_dNominator/t_dDenominator)"
   ]
  },
  {
   "cell_type": "code",
   "execution_count": 12,
   "metadata": {},
   "outputs": [],
   "source": [
    "def GetMutualInfo(gdf, sCol1, sCol2):\n",
    "    \n",
    "    v_uniqueVals_col1 = gdf[sCol1].unique()\n",
    "    v_uniqueVals_col2 = gdf[sCol2].unique()\n",
    "    marginal1 = gdf.groupby(sCol1).size().div(len(gdf))\n",
    "    marginal2 = gdf.groupby(sCol2).size().div(len(gdf))\n",
    "    df_condProb = gdf.groupby(sCol1)[sCol2].value_counts() / gdf.groupby(sCol1)[sCol2].count()\n",
    "    \n",
    "    cond_prob = {}\n",
    "    for i in v_uniqueVals_col1:\n",
    "        for j in v_uniqueVals_col2:\n",
    "            if (i,j) in df_condProb.index:\n",
    "                cond_prob[i,j] = df_condProb[i,j]\n",
    "            else:\n",
    "                cond_prob[i,j] = 0\n",
    "    \n",
    "    joint_prob = {}\n",
    "    for i in v_uniqueVals_col1:\n",
    "        for j in v_uniqueVals_col2:\n",
    "            joint_prob[i,j] = np.round(cond_prob[i,j]*marginal1[i],3)\n",
    "    \n",
    "    tmp_mutualInfo = 0\n",
    "    for i in v_uniqueVals_col1:\n",
    "        for j in v_uniqueVals_col2:\n",
    "            if joint_prob[i,j] > 0:\n",
    "                tmp_mutualInfo += joint_prob[i,j]*math.log(joint_prob[i,j]/(marginal1[i]*marginal2[j]))\n",
    "    \n",
    "    return tmp_mutualInfo"
   ]
  },
  {
   "cell_type": "code",
   "execution_count": 13,
   "metadata": {},
   "outputs": [
    {
     "data": {
      "text/plain": [
       "2.24828080923372"
      ]
     },
     "execution_count": 13,
     "metadata": {},
     "output_type": "execute_result"
    }
   ],
   "source": [
    "GetMutualInfo(df_xy, 'X', 'Y')"
   ]
  },
  {
   "cell_type": "code",
   "execution_count": 20,
   "metadata": {},
   "outputs": [
    {
     "data": {
      "text/plain": [
       "2.2450352741261774"
      ]
     },
     "execution_count": 20,
     "metadata": {},
     "output_type": "execute_result"
    }
   ],
   "source": [
    "from sklearn.metrics import mutual_info_score\n",
    "mutual_info_score(df_xy['X'], df_xy['Y'])"
   ]
  },
  {
   "cell_type": "code",
   "execution_count": 14,
   "metadata": {},
   "outputs": [],
   "source": [
    "def chi2_by_hand(df, col1, col2):    \n",
    "    df_cont = pd.crosstab(index = df[col1], columns = df[col2])\n",
    "    print(df_cont)\n",
    "\n",
    "    degree_f = (df_cont.shape[0]-1) * (df_cont.shape[1]-1)\n",
    "    df_cont.loc[:,'Total']= df_cont.sum(axis=1)\n",
    "    df_cont.loc['Total']= df_cont.sum()\n",
    "    print('---Observed (O)---')\n",
    "    print(df_cont)\n",
    "\n",
    "    df_exp = df_cont.copy()    \n",
    "    df_exp.iloc[:,:] = np.multiply.outer(\n",
    "        df_cont.sum(1).values,df_cont.sum().values)/df_cont.sum().sum()            \n",
    "    print('---Expected (E)---')\n",
    "    print(df_exp)\n",
    "        \n",
    "    # calculate chi-square values\n",
    "    df_chi2 = ((df_cont - df_exp)**2) / df_exp    \n",
    "    df_chi2.loc[:,'Total']= df_chi2.sum(axis=1)\n",
    "    df_chi2.loc['Total']= df_chi2.sum()\n",
    "    \n",
    "    print('---Chi-Square---')\n",
    "    print(df_chi2)\n",
    "    chi_square_score = df_chi2.iloc[:-1,:-1].sum().sum()\n",
    "    \n",
    "    return chi_square_score, degree_f"
   ]
  },
  {
   "cell_type": "code",
   "execution_count": 17,
   "metadata": {},
   "outputs": [
    {
     "data": {
      "text/plain": [
       "Power_divergenceResult(statistic=2.0, pvalue=0.8491450360846096)"
      ]
     },
     "execution_count": 17,
     "metadata": {},
     "output_type": "execute_result"
    }
   ],
   "source": [
    "# chi2_by_hand(df_xy, 'X', 'Y')\n",
    "\n",
    "from scipy.stats import chisquare\n",
    "chisquare([16, 18, 16, 14, 12, 12])"
   ]
  }
 ],
 "metadata": {
  "interpreter": {
   "hash": "aee8b7b246df8f9039afb4144a1f6fd8d2ca17a180786b69acc140d282b71a49"
  },
  "kernelspec": {
   "display_name": "Python 3.9.7 64-bit",
   "language": "python",
   "name": "python3"
  },
  "language_info": {
   "codemirror_mode": {
    "name": "ipython",
    "version": 3
   },
   "file_extension": ".py",
   "mimetype": "text/x-python",
   "name": "python",
   "nbconvert_exporter": "python",
   "pygments_lexer": "ipython3",
   "version": "3.9.7"
  },
  "orig_nbformat": 4
 },
 "nbformat": 4,
 "nbformat_minor": 2
}
