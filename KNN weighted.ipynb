{
 "cells": [
  {
   "cell_type": "code",
   "execution_count": 1,
   "metadata": {},
   "outputs": [],
   "source": [
    "import numpy as np\n",
    "import pandas as pd\n",
    "import matplotlib.pyplot as plt\n",
    "from sklearn.datasets import make_blobs\n",
    "import math\n",
    "\n",
    "def euclidean_distance_weighted(train, test):\n",
    "    return math.sqrt( sum((e1 - e2)**2 for e1, e2 in zip(train, test)))\n",
    "\n",
    "def manhattan_distance(train,test):\n",
    "    return sum( abs(e1-e2) for e1, e2 in zip(train, test))"
   ]
  },
  {
   "cell_type": "code",
   "execution_count": 2,
   "metadata": {},
   "outputs": [],
   "source": [
    "#weighted KNN\n",
    "def get_neighbors_weighted(train, test, num_neighbors):\n",
    "\tdistances = list()\n",
    "\tfor train_row in train:\n",
    "\t\tdist = euclidean_distance_weighted(test, train_row)\n",
    "\t\tdistances.append((train_row, key, dist))\n",
    "\tdistances.sort(key=lambda tup: tup[2])\n",
    "\tneighbors = list()\n",
    "\tfor i in range(num_neighbors):\n",
    "\t\tneighbors.append(distances[i])\n",
    "\treturn neighbors"
   ]
  },
  {
   "cell_type": "code",
   "execution_count": 3,
   "metadata": {},
   "outputs": [
    {
     "data": {
      "text/plain": [
       "[((2, 1), 1, 2.23606797749979),\n",
       " ((6, 3), 2, 2.23606797749979),\n",
       " ((1.5, 2.5), 1, 2.5495097567963922),\n",
       " ((6, 4), 2, 2.8284271247461903),\n",
       " ((1, 2), 1, 3.0)]"
      ]
     },
     "execution_count": 3,
     "metadata": {},
     "output_type": "execute_result"
    }
   ],
   "source": [
    "train = {(1, 1): 1, (1, 2):1, (1, 3):1, (1.5, 2.5):1, (2, 1):1, (6, 3):2, (6, 4):2, (7, 3.5):2, (8, 3):2, (8, 4.5):2}\n",
    "test = (4,2)\n",
    "labels = [1,2]\n",
    "distances = list()\n",
    "for index, (train_row, key) in enumerate(train.items()):\n",
    "    dist = euclidean_distance_weighted(train_row, test)\n",
    "    distances.append((train_row, key, dist))\n",
    "distances.sort(key=lambda tup: tup[2])\n",
    "neighbours = distances[:5]\n",
    "neighbours"
   ]
  },
  {
   "cell_type": "code",
   "execution_count": 4,
   "metadata": {},
   "outputs": [
    {
     "name": "stdout",
     "output_type": "stream",
     "text": [
      "7.785577734296182\n",
      "5.06449510224598\n"
     ]
    }
   ],
   "source": [
    "for i in labels:\n",
    "    sum = 0\n",
    "    for p in neighbours:\n",
    "        if i == p[1]:\n",
    "            sum +=p[2]\n",
    "    print(sum)"
   ]
  }
 ],
 "metadata": {
  "interpreter": {
   "hash": "aee8b7b246df8f9039afb4144a1f6fd8d2ca17a180786b69acc140d282b71a49"
  },
  "kernelspec": {
   "display_name": "Python 3.9.7 64-bit",
   "language": "python",
   "name": "python3"
  },
  "language_info": {
   "codemirror_mode": {
    "name": "ipython",
    "version": 3
   },
   "file_extension": ".py",
   "mimetype": "text/x-python",
   "name": "python",
   "nbconvert_exporter": "python",
   "pygments_lexer": "ipython3",
   "version": "3.9.7"
  },
  "orig_nbformat": 4
 },
 "nbformat": 4,
 "nbformat_minor": 2
}
