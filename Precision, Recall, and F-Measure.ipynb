{
 "cells": [
  {
   "cell_type": "code",
   "execution_count": 39,
   "metadata": {},
   "outputs": [],
   "source": [
    "import pandas as pd\n",
    "import numpy as np\n",
    "import matplotlib.pyplot as plt\n",
    "from sklearn.preprocessing import StandardScaler\n",
    "import math"
   ]
  },
  {
   "cell_type": "code",
   "execution_count": 40,
   "metadata": {},
   "outputs": [
    {
     "data": {
      "text/html": [
       "<div>\n",
       "<style scoped>\n",
       "    .dataframe tbody tr th:only-of-type {\n",
       "        vertical-align: middle;\n",
       "    }\n",
       "\n",
       "    .dataframe tbody tr th {\n",
       "        vertical-align: top;\n",
       "    }\n",
       "\n",
       "    .dataframe thead th {\n",
       "        text-align: right;\n",
       "    }\n",
       "</style>\n",
       "<table border=\"1\" class=\"dataframe\">\n",
       "  <thead>\n",
       "    <tr style=\"text-align: right;\">\n",
       "      <th></th>\n",
       "      <th>f1</th>\n",
       "      <th>f2</th>\n",
       "      <th>f3</th>\n",
       "      <th>f4</th>\n",
       "    </tr>\n",
       "  </thead>\n",
       "  <tbody>\n",
       "    <tr>\n",
       "      <th>0</th>\n",
       "      <td>1</td>\n",
       "      <td>2</td>\n",
       "      <td>3</td>\n",
       "      <td>4</td>\n",
       "    </tr>\n",
       "    <tr>\n",
       "      <th>1</th>\n",
       "      <td>5</td>\n",
       "      <td>5</td>\n",
       "      <td>6</td>\n",
       "      <td>7</td>\n",
       "    </tr>\n",
       "    <tr>\n",
       "      <th>2</th>\n",
       "      <td>2</td>\n",
       "      <td>4</td>\n",
       "      <td>2</td>\n",
       "      <td>3</td>\n",
       "    </tr>\n",
       "    <tr>\n",
       "      <th>3</th>\n",
       "      <td>5</td>\n",
       "      <td>3</td>\n",
       "      <td>2</td>\n",
       "      <td>1</td>\n",
       "    </tr>\n",
       "    <tr>\n",
       "      <th>4</th>\n",
       "      <td>8</td>\n",
       "      <td>1</td>\n",
       "      <td>2</td>\n",
       "      <td>2</td>\n",
       "    </tr>\n",
       "  </tbody>\n",
       "</table>\n",
       "</div>"
      ],
      "text/plain": [
       "   f1  f2  f3  f4\n",
       "0   1   2   3   4\n",
       "1   5   5   6   7\n",
       "2   2   4   2   3\n",
       "3   5   3   2   1\n",
       "4   8   1   2   2"
      ]
     },
     "execution_count": 40,
     "metadata": {},
     "output_type": "execute_result"
    }
   ],
   "source": [
    "A = np.array([[1, 2, 3, 4],\n",
    "              [5, 5, 6, 7],\n",
    "              [2, 4, 2, 3],\n",
    "              [5, 3, 2, 1],\n",
    "              [8, 1, 2, 2]])\n",
    "df = pd.DataFrame(A, columns = ['f1', 'f2', 'f3', 'f4'])\n",
    "df"
   ]
  },
  {
   "cell_type": "code",
   "execution_count": 41,
   "metadata": {},
   "outputs": [
    {
     "data": {
      "text/html": [
       "<div>\n",
       "<style scoped>\n",
       "    .dataframe tbody tr th:only-of-type {\n",
       "        vertical-align: middle;\n",
       "    }\n",
       "\n",
       "    .dataframe tbody tr th {\n",
       "        vertical-align: top;\n",
       "    }\n",
       "\n",
       "    .dataframe thead th {\n",
       "        text-align: right;\n",
       "    }\n",
       "</style>\n",
       "<table border=\"1\" class=\"dataframe\">\n",
       "  <thead>\n",
       "    <tr style=\"text-align: right;\">\n",
       "      <th></th>\n",
       "      <th>0</th>\n",
       "      <th>1</th>\n",
       "      <th>2</th>\n",
       "      <th>3</th>\n",
       "    </tr>\n",
       "  </thead>\n",
       "  <tbody>\n",
       "    <tr>\n",
       "      <th>0</th>\n",
       "      <td>-1.153200</td>\n",
       "      <td>-0.632456</td>\n",
       "      <td>0.000000</td>\n",
       "      <td>0.260623</td>\n",
       "    </tr>\n",
       "    <tr>\n",
       "      <th>1</th>\n",
       "      <td>0.288300</td>\n",
       "      <td>1.264911</td>\n",
       "      <td>1.732051</td>\n",
       "      <td>1.563740</td>\n",
       "    </tr>\n",
       "    <tr>\n",
       "      <th>2</th>\n",
       "      <td>-0.792825</td>\n",
       "      <td>0.632456</td>\n",
       "      <td>-0.577350</td>\n",
       "      <td>-0.173749</td>\n",
       "    </tr>\n",
       "    <tr>\n",
       "      <th>3</th>\n",
       "      <td>0.288300</td>\n",
       "      <td>0.000000</td>\n",
       "      <td>-0.577350</td>\n",
       "      <td>-1.042493</td>\n",
       "    </tr>\n",
       "    <tr>\n",
       "      <th>4</th>\n",
       "      <td>1.369425</td>\n",
       "      <td>-1.264911</td>\n",
       "      <td>-0.577350</td>\n",
       "      <td>-0.608121</td>\n",
       "    </tr>\n",
       "  </tbody>\n",
       "</table>\n",
       "</div>"
      ],
      "text/plain": [
       "          0         1         2         3\n",
       "0 -1.153200 -0.632456  0.000000  0.260623\n",
       "1  0.288300  1.264911  1.732051  1.563740\n",
       "2 -0.792825  0.632456 -0.577350 -0.173749\n",
       "3  0.288300  0.000000 -0.577350 -1.042493\n",
       "4  1.369425 -1.264911 -0.577350 -0.608121"
      ]
     },
     "execution_count": 41,
     "metadata": {},
     "output_type": "execute_result"
    }
   ],
   "source": [
    "#standartize datased\n",
    "df_standartize = pd.DataFrame(np.array((df - df.mean()) / df.std(ddof=1)))\n",
    "df_standartize"
   ]
  },
  {
   "cell_type": "code",
   "execution_count": 42,
   "metadata": {},
   "outputs": [
    {
     "data": {
      "text/plain": [
       "array([[-1.28931674, -0.70710678,  0.        ,  0.29138576],\n",
       "       [ 0.32232919,  1.41421356,  1.93649167,  1.74831455],\n",
       "       [-0.88640526,  0.70710678, -0.64549722, -0.19425717],\n",
       "       [ 0.32232919,  0.        , -0.64549722, -1.16554303],\n",
       "       [ 1.53106363, -1.41421356, -0.64549722, -0.6799001 ]])"
      ]
     },
     "execution_count": 42,
     "metadata": {},
     "output_type": "execute_result"
    }
   ],
   "source": [
    "x = StandardScaler().fit_transform(df)    \n",
    "x"
   ]
  },
  {
   "cell_type": "code",
   "execution_count": 43,
   "metadata": {},
   "outputs": [
    {
     "data": {
      "text/html": [
       "<div>\n",
       "<style scoped>\n",
       "    .dataframe tbody tr th:only-of-type {\n",
       "        vertical-align: middle;\n",
       "    }\n",
       "\n",
       "    .dataframe tbody tr th {\n",
       "        vertical-align: top;\n",
       "    }\n",
       "\n",
       "    .dataframe thead th {\n",
       "        text-align: right;\n",
       "    }\n",
       "</style>\n",
       "<table border=\"1\" class=\"dataframe\">\n",
       "  <thead>\n",
       "    <tr style=\"text-align: right;\">\n",
       "      <th></th>\n",
       "      <th>0</th>\n",
       "      <th>1</th>\n",
       "      <th>2</th>\n",
       "      <th>3</th>\n",
       "    </tr>\n",
       "  </thead>\n",
       "  <tbody>\n",
       "    <tr>\n",
       "      <th>0</th>\n",
       "      <td>1.000000e+00</td>\n",
       "      <td>-0.284901</td>\n",
       "      <td>-1.954018e-17</td>\n",
       "      <td>-0.211325</td>\n",
       "    </tr>\n",
       "    <tr>\n",
       "      <th>1</th>\n",
       "      <td>-2.849014e-01</td>\n",
       "      <td>1.000000</td>\n",
       "      <td>6.390097e-01</td>\n",
       "      <td>0.618123</td>\n",
       "    </tr>\n",
       "    <tr>\n",
       "      <th>2</th>\n",
       "      <td>-1.954018e-17</td>\n",
       "      <td>0.639010</td>\n",
       "      <td>1.000000e+00</td>\n",
       "      <td>0.940443</td>\n",
       "    </tr>\n",
       "    <tr>\n",
       "      <th>3</th>\n",
       "      <td>-2.113248e-01</td>\n",
       "      <td>0.618123</td>\n",
       "      <td>9.404435e-01</td>\n",
       "      <td>1.000000</td>\n",
       "    </tr>\n",
       "  </tbody>\n",
       "</table>\n",
       "</div>"
      ],
      "text/plain": [
       "              0         1             2         3\n",
       "0  1.000000e+00 -0.284901 -1.954018e-17 -0.211325\n",
       "1 -2.849014e-01  1.000000  6.390097e-01  0.618123\n",
       "2 -1.954018e-17  0.639010  1.000000e+00  0.940443\n",
       "3 -2.113248e-01  0.618123  9.404435e-01  1.000000"
      ]
     },
     "execution_count": 43,
     "metadata": {},
     "output_type": "execute_result"
    }
   ],
   "source": [
    "df_standartize.cov()"
   ]
  },
  {
   "cell_type": "code",
   "execution_count": 44,
   "metadata": {},
   "outputs": [
    {
     "data": {
      "text/plain": [
       "array([[ 1.00000000e+00, -2.84901441e-01, -1.95401772e-17,\n",
       "        -2.11324802e-01],\n",
       "       [-2.84901441e-01,  1.00000000e+00,  6.39009650e-01,\n",
       "         6.18122538e-01],\n",
       "       [-1.95401772e-17,  6.39009650e-01,  1.00000000e+00,\n",
       "         9.40443492e-01],\n",
       "       [-2.11324802e-01,  6.18122538e-01,  9.40443492e-01,\n",
       "         1.00000000e+00]])"
      ]
     },
     "execution_count": 44,
     "metadata": {},
     "output_type": "execute_result"
    }
   ],
   "source": [
    "#calculate the covariance matrix for the while dataset\n",
    "covariance = np.dot((df_standartize - df_standartize.mean()).T, (df_standartize - df_standartize.mean()))/(df_standartize.shape[0]-1)\n",
    "covariance"
   ]
  },
  {
   "cell_type": "code",
   "execution_count": 45,
   "metadata": {},
   "outputs": [],
   "source": [
    "def normalize_data(data):\n",
    "    return (data - np.min(data)) / (np.max(data) - np.min(data))"
   ]
  },
  {
   "cell_type": "code",
   "execution_count": 46,
   "metadata": {},
   "outputs": [
    {
     "data": {
      "text/html": [
       "<div>\n",
       "<style scoped>\n",
       "    .dataframe tbody tr th:only-of-type {\n",
       "        vertical-align: middle;\n",
       "    }\n",
       "\n",
       "    .dataframe tbody tr th {\n",
       "        vertical-align: top;\n",
       "    }\n",
       "\n",
       "    .dataframe thead th {\n",
       "        text-align: right;\n",
       "    }\n",
       "</style>\n",
       "<table border=\"1\" class=\"dataframe\">\n",
       "  <thead>\n",
       "    <tr style=\"text-align: right;\">\n",
       "      <th></th>\n",
       "      <th>0</th>\n",
       "      <th>1</th>\n",
       "      <th>2</th>\n",
       "      <th>3</th>\n",
       "    </tr>\n",
       "  </thead>\n",
       "  <tbody>\n",
       "    <tr>\n",
       "      <th>0</th>\n",
       "      <td>0.000000</td>\n",
       "      <td>0.25</td>\n",
       "      <td>0.25</td>\n",
       "      <td>0.500000</td>\n",
       "    </tr>\n",
       "    <tr>\n",
       "      <th>1</th>\n",
       "      <td>0.571429</td>\n",
       "      <td>1.00</td>\n",
       "      <td>1.00</td>\n",
       "      <td>1.000000</td>\n",
       "    </tr>\n",
       "    <tr>\n",
       "      <th>2</th>\n",
       "      <td>0.142857</td>\n",
       "      <td>0.75</td>\n",
       "      <td>0.00</td>\n",
       "      <td>0.333333</td>\n",
       "    </tr>\n",
       "    <tr>\n",
       "      <th>3</th>\n",
       "      <td>0.571429</td>\n",
       "      <td>0.50</td>\n",
       "      <td>0.00</td>\n",
       "      <td>0.000000</td>\n",
       "    </tr>\n",
       "    <tr>\n",
       "      <th>4</th>\n",
       "      <td>1.000000</td>\n",
       "      <td>0.00</td>\n",
       "      <td>0.00</td>\n",
       "      <td>0.166667</td>\n",
       "    </tr>\n",
       "  </tbody>\n",
       "</table>\n",
       "</div>"
      ],
      "text/plain": [
       "          0     1     2         3\n",
       "0  0.000000  0.25  0.25  0.500000\n",
       "1  0.571429  1.00  1.00  1.000000\n",
       "2  0.142857  0.75  0.00  0.333333\n",
       "3  0.571429  0.50  0.00  0.000000\n",
       "4  1.000000  0.00  0.00  0.166667"
      ]
     },
     "execution_count": 46,
     "metadata": {},
     "output_type": "execute_result"
    }
   ],
   "source": [
    "normalize_data(df_standartize)"
   ]
  },
  {
   "cell_type": "code",
   "execution_count": 47,
   "metadata": {},
   "outputs": [
    {
     "data": {
      "text/plain": [
       "array([[0.05679618, 0.11359237, 0.17038855, 0.22718473],\n",
       "       [0.28398092, 0.28398092, 0.3407771 , 0.39757328],\n",
       "       [0.11359237, 0.22718473, 0.11359237, 0.17038855],\n",
       "       [0.28398092, 0.17038855, 0.11359237, 0.05679618],\n",
       "       [0.45436947, 0.05679618, 0.11359237, 0.11359237]])"
      ]
     },
     "execution_count": 47,
     "metadata": {},
     "output_type": "execute_result"
    }
   ],
   "source": [
    "A / np.sqrt(np.sum(A**2))"
   ]
  },
  {
   "cell_type": "code",
   "execution_count": 48,
   "metadata": {},
   "outputs": [
    {
     "data": {
      "text/plain": [
       "array([[0.05679618, 0.11359237, 0.17038855, 0.22718473],\n",
       "       [0.28398092, 0.28398092, 0.3407771 , 0.39757328],\n",
       "       [0.11359237, 0.22718473, 0.11359237, 0.17038855],\n",
       "       [0.28398092, 0.17038855, 0.11359237, 0.05679618],\n",
       "       [0.45436947, 0.05679618, 0.11359237, 0.11359237]])"
      ]
     },
     "execution_count": 48,
     "metadata": {},
     "output_type": "execute_result"
    }
   ],
   "source": [
    "A/np.sqrt(np.sum(A**2))"
   ]
  },
  {
   "cell_type": "code",
   "execution_count": 49,
   "metadata": {},
   "outputs": [
    {
     "data": {
      "text/html": [
       "<div>\n",
       "<style scoped>\n",
       "    .dataframe tbody tr th:only-of-type {\n",
       "        vertical-align: middle;\n",
       "    }\n",
       "\n",
       "    .dataframe tbody tr th {\n",
       "        vertical-align: top;\n",
       "    }\n",
       "\n",
       "    .dataframe thead th {\n",
       "        text-align: right;\n",
       "    }\n",
       "</style>\n",
       "<table border=\"1\" class=\"dataframe\">\n",
       "  <thead>\n",
       "    <tr style=\"text-align: right;\">\n",
       "      <th></th>\n",
       "      <th>f1</th>\n",
       "      <th>f2</th>\n",
       "      <th>f3</th>\n",
       "      <th>f4</th>\n",
       "    </tr>\n",
       "  </thead>\n",
       "  <tbody>\n",
       "    <tr>\n",
       "      <th>0</th>\n",
       "      <td>0.056796</td>\n",
       "      <td>0.113592</td>\n",
       "      <td>0.170389</td>\n",
       "      <td>0.227185</td>\n",
       "    </tr>\n",
       "    <tr>\n",
       "      <th>1</th>\n",
       "      <td>0.283981</td>\n",
       "      <td>0.283981</td>\n",
       "      <td>0.340777</td>\n",
       "      <td>0.397573</td>\n",
       "    </tr>\n",
       "    <tr>\n",
       "      <th>2</th>\n",
       "      <td>0.113592</td>\n",
       "      <td>0.227185</td>\n",
       "      <td>0.113592</td>\n",
       "      <td>0.170389</td>\n",
       "    </tr>\n",
       "    <tr>\n",
       "      <th>3</th>\n",
       "      <td>0.283981</td>\n",
       "      <td>0.170389</td>\n",
       "      <td>0.113592</td>\n",
       "      <td>0.056796</td>\n",
       "    </tr>\n",
       "    <tr>\n",
       "      <th>4</th>\n",
       "      <td>0.454369</td>\n",
       "      <td>0.056796</td>\n",
       "      <td>0.113592</td>\n",
       "      <td>0.113592</td>\n",
       "    </tr>\n",
       "  </tbody>\n",
       "</table>\n",
       "</div>"
      ],
      "text/plain": [
       "         f1        f2        f3        f4\n",
       "0  0.056796  0.113592  0.170389  0.227185\n",
       "1  0.283981  0.283981  0.340777  0.397573\n",
       "2  0.113592  0.227185  0.113592  0.170389\n",
       "3  0.283981  0.170389  0.113592  0.056796\n",
       "4  0.454369  0.056796  0.113592  0.113592"
      ]
     },
     "execution_count": 49,
     "metadata": {},
     "output_type": "execute_result"
    }
   ],
   "source": [
    "df/np.sqrt(np.sum(df.values**2))"
   ]
  },
  {
   "cell_type": "code",
   "execution_count": 50,
   "metadata": {},
   "outputs": [
    {
     "data": {
      "text/plain": [
       "array([[0.05679618, 0.11359237, 0.17038855, 0.22718473],\n",
       "       [0.28398092, 0.28398092, 0.3407771 , 0.39757328],\n",
       "       [0.11359237, 0.22718473, 0.11359237, 0.17038855],\n",
       "       [0.28398092, 0.17038855, 0.11359237, 0.05679618],\n",
       "       [0.45436947, 0.05679618, 0.11359237, 0.11359237]])"
      ]
     },
     "execution_count": 50,
     "metadata": {},
     "output_type": "execute_result"
    }
   ],
   "source": [
    "A/np.linalg.norm(A)"
   ]
  },
  {
   "cell_type": "code",
   "execution_count": 51,
   "metadata": {},
   "outputs": [
    {
     "name": "stdout",
     "output_type": "stream",
     "text": [
      "[[7 8 9]\n",
      " [1 2 3]\n",
      " [3 2 1]]\n",
      "[0.29166667 0.33333333 0.16666667]\n",
      "[0.63636364 0.16666667 0.07692308]\n",
      "[0.4        0.22222222 0.10526316]\n"
     ]
    }
   ],
   "source": [
    "y_true = [0,0,0,0,0,0,0, 1,1,1,1,1,1,1,1, 2,2,2,2,2,2,2,2,2, 0, 1,1, 2,2,2, 0,0,0, 1,1, 2]\n",
    "y_pred = [0,0,0,0,0,0,0, 0,0,0,0,0,0,0,0, 0,0,0,0,0,0,0,0,0, 1, 1,1, 1,1,1, 2,2,2, 2,2, 2]\n",
    "from sklearn.metrics import confusion_matrix, precision_score, recall_score, f1_score\n",
    "print(confusion_matrix(y_pred, y_true))\n",
    "print(precision_score(y_true, y_pred, average = None))\n",
    "print(recall_score(y_true, y_pred, average = None))\n",
    "print(f1_score(y_true, y_pred, average = None))"
   ]
  },
  {
   "cell_type": "code",
   "execution_count": 52,
   "metadata": {},
   "outputs": [
    {
     "name": "stdout",
     "output_type": "stream",
     "text": [
      "[[7. 8. 9.]\n",
      " [1. 2. 3.]\n",
      " [3. 2. 1.]]\n"
     ]
    }
   ],
   "source": [
    "def confusion_matrix(actual, predicted):\n",
    "    classes = np.unique(actual)\n",
    "    M = np.zeros((len(classes), len(classes)))\n",
    "\n",
    "    for i in range(len(classes)):\n",
    "        for j in range(len(classes)):\n",
    "           M[i, j] = np.sum((predicted == classes[i]) & (actual == classes[j]))\n",
    "\n",
    "    return M\n",
    "CM = confusion_matrix(y_true, y_pred)\n",
    "print(CM)"
   ]
  },
  {
   "cell_type": "code",
   "execution_count": 53,
   "metadata": {},
   "outputs": [
    {
     "data": {
      "text/plain": [
       "[0.6363636363636364, 0.16666666666666666, 0.07692307692307693]"
      ]
     },
     "execution_count": 53,
     "metadata": {},
     "output_type": "execute_result"
    }
   ],
   "source": [
    "#recall\n",
    "recall = []\n",
    "for i in range(len(CM)):\n",
    "    recall.append(CM[:,i][i]/np.sum(CM[:,i]))\n",
    "recall"
   ]
  },
  {
   "cell_type": "code",
   "execution_count": 54,
   "metadata": {},
   "outputs": [
    {
     "data": {
      "text/plain": [
       "[0.2916666666666667, 0.3333333333333333, 0.16666666666666666]"
      ]
     },
     "execution_count": 54,
     "metadata": {},
     "output_type": "execute_result"
    }
   ],
   "source": [
    "#precision\n",
    "precision = []\n",
    "for i in range(len(CM)):\n",
    "    precision.append(CM[:,i][i]/np.sum(CM[i,:]))\n",
    "precision"
   ]
  },
  {
   "cell_type": "code",
   "execution_count": 55,
   "metadata": {},
   "outputs": [
    {
     "data": {
      "text/plain": [
       "[0.4, 0.2222222222222222, 0.10526315789473684]"
      ]
     },
     "execution_count": 55,
     "metadata": {},
     "output_type": "execute_result"
    }
   ],
   "source": [
    "#f1 sco re\n",
    "f1_score = []\n",
    "for i in range(len(CM)):\n",
    "    f1_score.append((2*precision[i]*recall[i])/(precision[i]+recall[i]))\n",
    "f1_score"
   ]
  }
 ],
 "metadata": {
  "interpreter": {
   "hash": "aee8b7b246df8f9039afb4144a1f6fd8d2ca17a180786b69acc140d282b71a49"
  },
  "kernelspec": {
   "display_name": "Python 3.9.7 64-bit",
   "language": "python",
   "name": "python3"
  },
  "language_info": {
   "codemirror_mode": {
    "name": "ipython",
    "version": 3
   },
   "file_extension": ".py",
   "mimetype": "text/x-python",
   "name": "python",
   "nbconvert_exporter": "python",
   "pygments_lexer": "ipython3",
   "version": "3.9.7"
  },
  "orig_nbformat": 4
 },
 "nbformat": 4,
 "nbformat_minor": 2
}
