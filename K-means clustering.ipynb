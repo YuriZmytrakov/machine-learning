{
 "cells": [
  {
   "cell_type": "markdown",
   "metadata": {},
   "source": [
    "<div align=\"center\"><font size=\"6\"><b> DS8002: Machine Learning </b></font></div>\n",
    "\n",
    "---\n",
    "\n",
    "<span style=\"color:red\"><font size=\"3\"><b> ONLY .ipynb FILE IS ACCEPTED. You should use only this file without removing the cells. </b></font></span>\n",
    "\n",
    "\n",
    "<font size=\"4\"><b> Lab Exam-2 </b></font>\n",
    "\n",
    "<font size=\"3\">Nov. 16th, 2021. 6:00 p.m. - 7:50 p.m.</font>\n",
    "\n",
    "You should be present in the Zoom during the exam.\n",
    "\n",
    "**Do not forget to rename it as explained in the instruction file. Failing to do that, will result in losing 3 points.**\n",
    "\n",
    "**THE CODE SHOULD BE RUN AND THE OUTPUTS SHOULD BE PRINTED TO GET THE FULL MARK.**"
   ]
  },
  {
   "cell_type": "code",
   "execution_count": 103,
   "metadata": {},
   "outputs": [],
   "source": [
    "import numpy  as np \n",
    "import random\n",
    "import pandas as pd \n",
    "import math\n",
    "import matplotlib.pyplot as plt\n",
    "import seaborn as sns\n",
    "from numpy import linalg as la"
   ]
  },
  {
   "cell_type": "markdown",
   "metadata": {},
   "source": [
    "## Q1. (40 points) K-means Clustering\n",
    "Consider the following variant of $k$-means clustering algorithm:\\\n",
    "Input: $x^1,.....,x^n,\\ k$\\\n",
    "Step 1: Select $k$ cluster centers $c_1,....,c_k$ randomly\\\n",
    "Step 2: for each point $x$, determine its cluster: find the closest\n",
    "center using Chebyshev distance\\\n",
    "Step 3: update all cluster centers as the centroids:\n",
    "$c_i = \\frac{\\sum_{\\{x \\in \\ cluster \\ i\\}} x}{ SizeOf(cluster \\ i)}$\\\n",
    "Repeat step 2, 3 until cluster centers no longer change\\\n",
    "where Chebyshev distance between point $p (p_1,p_2...p_n)$ and\n",
    "$q (q_1,q_2,.... q_n)$ can be defined as follows :\n",
    "$d\\left( p,q\\right) =  \\max _{i} ( \\left| \\begin{matrix} p_{i} -q_{i}\\end{matrix} \\right|   )$"
   ]
  },
  {
   "cell_type": "code",
   "execution_count": 104,
   "metadata": {},
   "outputs": [
    {
     "data": {
      "text/plain": [
       "array([[0.417, 0.72 , 0.   ],\n",
       "       [0.302, 0.147, 0.092],\n",
       "       [0.186, 0.346, 0.397],\n",
       "       [0.539, 0.419, 0.685],\n",
       "       [0.204, 0.878, 0.027],\n",
       "       [0.67 , 0.417, 0.559],\n",
       "       [0.14 , 0.198, 0.801],\n",
       "       [0.968, 0.313, 0.692],\n",
       "       [0.876, 0.895, 0.085],\n",
       "       [0.039, 0.17 , 0.878],\n",
       "       [0.098, 0.421, 0.958],\n",
       "       [0.533, 0.692, 0.316],\n",
       "       [0.687, 0.835, 0.018],\n",
       "       [0.75 , 0.989, 0.748],\n",
       "       [0.28 , 0.789, 0.103],\n",
       "       [0.448, 0.909, 0.294],\n",
       "       [0.288, 0.13 , 0.019],\n",
       "       [0.679, 0.212, 0.266],\n",
       "       [0.492, 0.053, 0.574],\n",
       "       [0.147, 0.589, 0.7  ],\n",
       "       [0.102, 0.414, 0.694],\n",
       "       [0.414, 0.05 , 0.536],\n",
       "       [0.664, 0.515, 0.945],\n",
       "       [0.587, 0.903, 0.137],\n",
       "       [0.139, 0.807, 0.398],\n",
       "       [0.165, 0.928, 0.348],\n",
       "       [0.751, 0.726, 0.883],\n",
       "       [0.624, 0.751, 0.349],\n",
       "       [0.27 , 0.896, 0.428],\n",
       "       [0.965, 0.663, 0.622]])"
      ]
     },
     "execution_count": 104,
     "metadata": {},
     "output_type": "execute_result"
    }
   ],
   "source": [
    "np.random.seed(1)\n",
    "X3d = np.round(np.random.random([30,3]),3)\n",
    "#print(X3d)\n",
    "X3d"
   ]
  },
  {
   "cell_type": "markdown",
   "metadata": {},
   "source": [
    "#### Define the initial cluster centers :"
   ]
  },
  {
   "cell_type": "code",
   "execution_count": 105,
   "metadata": {},
   "outputs": [
    {
     "data": {
      "text/plain": [
       "array([12, 28,  7])"
      ]
     },
     "execution_count": 105,
     "metadata": {},
     "output_type": "execute_result"
    }
   ],
   "source": [
    "##randomly choosing 3 indexes\n",
    "np.random.randint(0,29,3)"
   ]
  },
  {
   "cell_type": "code",
   "execution_count": 106,
   "metadata": {},
   "outputs": [
    {
     "data": {
      "text/plain": [
       "[array([0.968, 0.313, 0.692]),\n",
       " array([0.27 , 0.896, 0.428]),\n",
       " array([0.147, 0.589, 0.7  ])]"
      ]
     },
     "execution_count": 106,
     "metadata": {},
     "output_type": "execute_result"
    }
   ],
   "source": [
    "cc = [X3d[7],X3d[28],X3d[19]]\n",
    "cc"
   ]
  },
  {
   "cell_type": "code",
   "execution_count": 107,
   "metadata": {},
   "outputs": [],
   "source": [
    "def chebyshev_distance(cc, p):\n",
    "    distance = []\n",
    "    for a,b in zip(cc, p):\n",
    "        distance.append(abs(a-b))\n",
    "    return max(distance)"
   ]
  },
  {
   "cell_type": "code",
   "execution_count": 108,
   "metadata": {},
   "outputs": [],
   "source": [
    "def predict_cluster_center_chebyshev(centre_point, points):\n",
    "    min_distance = 10000000\n",
    "    center_i = 0\n",
    "    for i, c in enumerate(centre_point):\n",
    "        temp_distance = chebyshev_distance(c, points)\n",
    "        if temp_distance < min_distance:\n",
    "            min_distance = temp_distance\n",
    "            center_i = i\n",
    "    return center_i"
   ]
  },
  {
   "cell_type": "markdown",
   "metadata": {},
   "source": [
    "Report the 3 cluster center values after 10 iterations"
   ]
  },
  {
   "cell_type": "code",
   "execution_count": 112,
   "metadata": {},
   "outputs": [
    {
     "name": "stdout",
     "output_type": "stream",
     "text": [
      "the original cluster centres: [[0.6473333333333333, 0.39355555555555555, 0.5292222222222223], [0.46, 0.8455384615384616, 0.25007692307692303], [0.20224999999999999, 0.28012499999999996, 0.69225]]\n",
      "Iteration # 0\n",
      "New cluster centre: [[0.6473333333333333, 0.39355555555555555, 0.5292222222222223], [0.46, 0.8455384615384616, 0.25007692307692303], [0.20224999999999999, 0.28012499999999996, 0.69225]]\n",
      "CONVERGED!\n",
      "Iteration # 1\n",
      "New cluster centre: [[0.6473333333333333, 0.39355555555555555, 0.5292222222222223], [0.46, 0.8455384615384616, 0.25007692307692303], [0.20224999999999999, 0.28012499999999996, 0.69225]]\n",
      "CONVERGED!\n",
      "Iteration # 2\n",
      "New cluster centre: [[0.6473333333333333, 0.39355555555555555, 0.5292222222222223], [0.46, 0.8455384615384616, 0.25007692307692303], [0.20224999999999999, 0.28012499999999996, 0.69225]]\n",
      "CONVERGED!\n",
      "Iteration # 3\n",
      "New cluster centre: [[0.6473333333333333, 0.39355555555555555, 0.5292222222222223], [0.46, 0.8455384615384616, 0.25007692307692303], [0.20224999999999999, 0.28012499999999996, 0.69225]]\n",
      "CONVERGED!\n",
      "Iteration # 4\n",
      "New cluster centre: [[0.6473333333333333, 0.39355555555555555, 0.5292222222222223], [0.46, 0.8455384615384616, 0.25007692307692303], [0.20224999999999999, 0.28012499999999996, 0.69225]]\n",
      "CONVERGED!\n",
      "Iteration # 5\n",
      "New cluster centre: [[0.6473333333333333, 0.39355555555555555, 0.5292222222222223], [0.46, 0.8455384615384616, 0.25007692307692303], [0.20224999999999999, 0.28012499999999996, 0.69225]]\n",
      "CONVERGED!\n",
      "Iteration # 6\n",
      "New cluster centre: [[0.6473333333333333, 0.39355555555555555, 0.5292222222222223], [0.46, 0.8455384615384616, 0.25007692307692303], [0.20224999999999999, 0.28012499999999996, 0.69225]]\n",
      "CONVERGED!\n",
      "Iteration # 7\n",
      "New cluster centre: [[0.6473333333333333, 0.39355555555555555, 0.5292222222222223], [0.46, 0.8455384615384616, 0.25007692307692303], [0.20224999999999999, 0.28012499999999996, 0.69225]]\n",
      "CONVERGED!\n",
      "Iteration # 8\n",
      "New cluster centre: [[0.6473333333333333, 0.39355555555555555, 0.5292222222222223], [0.46, 0.8455384615384616, 0.25007692307692303], [0.20224999999999999, 0.28012499999999996, 0.69225]]\n",
      "CONVERGED!\n",
      "Iteration # 9\n",
      "New cluster centre: [[0.6473333333333333, 0.39355555555555555, 0.5292222222222223], [0.46, 0.8455384615384616, 0.25007692307692303], [0.20224999999999999, 0.28012499999999996, 0.69225]]\n",
      "CONVERGED!\n",
      "PART 1 - printing below new centres after every iteration!!!\n",
      "PART 2 - The cluster centre after 10 iterations [[0.6473333333333333, 0.39355555555555555, 0.5292222222222223], [0.46, 0.8455384615384616, 0.25007692307692303], [0.20224999999999999, 0.28012499999999996, 0.69225]]\n"
     ]
    }
   ],
   "source": [
    "import math\n",
    "n_iter = 10\n",
    "\n",
    "print('the original cluster centres:', cc)\n",
    "for n in range(n_iter):\n",
    "    print('Iteration #', n)\n",
    "    y_predict = {}\n",
    "    clusters = {k: [] for k in range(len(cc))} #{0: [], 1: [], 2: []}\n",
    "\n",
    "    for i, x in enumerate(X3d):\n",
    "        y_predict[i] = predict_cluster_center_chebyshev(cc, x)\n",
    "        clusters[y_predict[i]].append(list(x))\n",
    "        \n",
    "    new_centers = [None]*len(cc)\n",
    "    for i in range(len(new_centers)):\n",
    "        new_centers[i] = list(np.mean(clusters[i], axis=0))\n",
    "\n",
    "    print('New cluster centre:', new_centers)\n",
    "    diff = sum(sum(abs(np.array(cc) - np.array(new_centers))))\n",
    "    if diff > 0:\n",
    "        cc = new_centers\n",
    "    else:\n",
    "        print(\"CONVERGED!\")\n",
    "        #break\n",
    "\n",
    "print('PART 1 - printing below new centres after every iteration!!!')\n",
    "print('PART 2 - The cluster centre after 10 iterations', new_centers)"
   ]
  },
  {
   "cell_type": "markdown",
   "metadata": {},
   "source": [
    "Plot the data points and cluster centers"
   ]
  },
  {
   "cell_type": "code",
   "execution_count": 113,
   "metadata": {},
   "outputs": [
    {
     "name": "stdout",
     "output_type": "stream",
     "text": [
      "PART 4 - yes, K mean clustering is sensitive to outliers, ideally we need to remove them before, because K means is sensitive to outliers, or we should use more robust agorithm for clustering, for example k medians\n",
      "PART 5 - Random initialization the practice of using random numbers to initialize the weights of a machine learning model. Yes, k means algorithm, \n",
      "which follows k-centroid initialization, is highly sensitive to the initial placement of centroids. Poor random initialization can cause the algorithm to get stuck \n",
      "into an inferior local minimum. This sensitivity is the disadvantage of k means algorithm.\n",
      "\n",
      "\n",
      "\n",
      "\n",
      "\n",
      "\n",
      "PART 3 - Plotting the data points with new centres and color is the cluster label - 3 clusters as per task!!!, black instances - new centeres\n"
     ]
    },
    {
     "data": {
      "image/png": "[encoded data removed]",
      "text/plain": [
       "<Figure size 432x288 with 1 Axes>"
      ]
     },
     "metadata": {
      "needs_background": "light"
     },
     "output_type": "display_data"
    }
   ],
   "source": [
    "import matplotlib.pyplot as plt\n",
    "fig = plt.figure()\n",
    "ax = plt.axes(projection ='3d')\n",
    "\n",
    "#plotting the dots\n",
    "plt.xlabel('X')\n",
    "plt.ylabel('Y')\n",
    "ax.set_zlabel('Z')\n",
    "\n",
    "for i, v in y_predict.items():\n",
    "    if v == 0:\n",
    "        ax.scatter(X3d[i][0], X3d[i][1], X3d[i][2], marker = 'x', color = 'red')\n",
    "    if v == 1:\n",
    "        ax.scatter(X3d[i][0], X3d[i][1], X3d[i][2], marker = 'x', color = 'blue')\n",
    "    if v == 2:\n",
    "        ax.scatter(X3d[i][0], X3d[i][1], X3d[i][2], marker = 'x', color = 'green')\n",
    "\n",
    "ax.scatter(new_centers[0][0], new_centers[0][1], new_centers[0][2], marker = 'o', color = 'black')\n",
    "ax.scatter(new_centers[1][0], new_centers[1][1], new_centers[1][2], marker = 'o', color = 'black')\n",
    "ax.scatter(new_centers[2][0], new_centers[2][1], new_centers[2][2], marker = 'o', color = 'black')\n",
    "\n",
    "print('PART 4 - yes, K mean clustering is sensitive to outliers, ideally we need to remove them before, because K means is sensitive to outliers, or we should use more robust agorithm for clustering, for example k medians')\n",
    "print('PART 5 - Random initialization the practice of using random numbers to initialize the weights of a machine learning model. Yes, k means algorithm, ')\n",
    "print('which follows k-centroid initialization, is highly sensitive to the initial placement of centroids. Poor random initialization can cause the algorithm to get stuck ')\n",
    "print('into an inferior local minimum. This sensitivity is the disadvantage of k means algorithm.')\n",
    "print('\\n')\n",
    "print('\\n')\n",
    "print('\\n')\n",
    "\n",
    "\n",
    "print('PART 3 - Plotting the data points with new centres and color is the cluster label - 3 clusters as per task!!!, black instances - new centeres')"
   ]
  },
  {
   "cell_type": "markdown",
   "metadata": {},
   "source": [
    "## Q2. (35 points) Parametric Classification\n"
   ]
  },
  {
   "cell_type": "code",
   "execution_count": 114,
   "metadata": {},
   "outputs": [],
   "source": [
    "expo_dict = {0.1077:0,  0.2727:0  ,  0.4899:0 ,  0.386:0 , \n",
    "             0.0387:0,  0.0001:0 ,  0.4755:0 ,  0.1968:0 , \n",
    "              0.2202:0 ,  0.0629:0 ,  0.0719:0 ,  0.0466:0 , \n",
    "              0.5517:0 ,  0.2386:0 ,  0.0935:0 ,  0.0112:0 ,\n",
    "              0.1646:0 ,  0.124:0 ,  0.0586:0 ,  0.151:0 , \n",
    "              0.1238:0 ,  0.8702:0 ,  0.2902:0 ,  0.0186:0 ,\n",
    "              0.2464:0 ,  0.2152:1 ,  0.6798:1 ,  0.9737:1 , \n",
    "              0.4371:1 ,  0.1774:1 ,  0.3256:1 ,  0.1446:1 , \n",
    "              0.259:1 ,  0.3758:1 ,  0.0705:1 ,  0.2922:1 , \n",
    "              0.7107:1 ,  0.9259:1 ,  0.1786:1 ,  0.8671:1 , \n",
    "              0.7042:1 ,  0.3865:1 ,  0.2623:1 ,  0.3469:1 , \n",
    "              1.0398:1 ,  0.0368:1 ,  0.1405:1 ,  0.0416:1 , \n",
    "              0.3891:1 ,  0.3493:1 }  "
   ]
  },
  {
   "cell_type": "code",
   "execution_count": 118,
   "metadata": {},
   "outputs": [],
   "source": [
    "X  = [val for val in expo_dict.keys()]\n",
    "r1 = [1 if expo_dict[val] == 0 else 0 for val in expo_dict.keys()]\n",
    "r2 = [1 if expo_dict[val] == 1 else 0 for val in expo_dict.keys()]\n",
    "x_1 = [val for val in expo_dict.keys() if expo_dict[val] == 0]\n",
    "x_2 = [val for val in expo_dict.keys() if expo_dict[val] == 1]\n",
    "\n",
    "r1 = [0]*len(x_1)\n",
    "r2 = [1]*len(x_2)"
   ]
  },
  {
   "cell_type": "code",
   "execution_count": 26,
   "metadata": {},
   "outputs": [
    {
     "name": "stdout",
     "output_type": "stream",
     "text": [
      "dict_items([(0.1077, 0), (0.2727, 0), (0.4899, 0), (0.386, 0), (0.0387, 0), (0.0001, 0), (0.4755, 0), (0.1968, 0), (0.2202, 0), (0.0629, 0), (0.0719, 0), (0.0466, 0), (0.5517, 0), (0.2386, 0), (0.0935, 0), (0.0112, 0), (0.1646, 0), (0.124, 0), (0.0586, 0), (0.151, 0), (0.1238, 0), (0.8702, 0), (0.2902, 0), (0.0186, 0), (0.2464, 0), (0.2152, 1), (0.6798, 1), (0.9737, 1), (0.4371, 1), (0.1774, 1), (0.3256, 1), (0.1446, 1), (0.259, 1), (0.3758, 1), (0.0705, 1), (0.2922, 1), (0.7107, 1), (0.9259, 1), (0.1786, 1), (0.8671, 1), (0.7042, 1), (0.3865, 1), (0.2623, 1), (0.3469, 1), (1.0398, 1), (0.0368, 1), (0.1405, 1), (0.0416, 1), (0.3891, 1), (0.3493, 1)])\n"
     ]
    }
   ],
   "source": [
    "#print(expo_dict.items())"
   ]
  },
  {
   "cell_type": "code",
   "execution_count": 119,
   "id": "b523f2a0",
   "metadata": {},
   "outputs": [],
   "source": [
    "def calc_mean(values): \n",
    "    return sum(values) / len(values)"
   ]
  },
  {
   "cell_type": "code",
   "execution_count": 120,
   "id": "7e8f04ee",
   "metadata": {},
   "outputs": [],
   "source": [
    "def lambda_e(mean):\n",
    "    return 1 / mean"
   ]
  },
  {
   "cell_type": "code",
   "execution_count": 121,
   "id": "21e4a562",
   "metadata": {},
   "outputs": [],
   "source": [
    "def calc_prior(class_items):\n",
    "    return len(class_items) / len(X)"
   ]
  },
  {
   "cell_type": "code",
   "execution_count": 123,
   "id": "961fb508",
   "metadata": {},
   "outputs": [],
   "source": [
    "def calc_prior(class_items):\n",
    "    return len(class_items) / len(X)"
   ]
  },
  {
   "cell_type": "code",
   "execution_count": 124,
   "metadata": {},
   "outputs": [],
   "source": [
    "def discriminant(value, prior, mean):\n",
    "    return np.log(lambda_e(mean)) - lambda_e(mean)*value + np.log(prior)"
   ]
  },
  {
   "cell_type": "code",
   "execution_count": 125,
   "id": "148e41e7",
   "metadata": {},
   "outputs": [
    {
     "name": "stdout",
     "output_type": "stream",
     "text": [
      "mean x1 0.21245600000000003\n",
      "mean x2 0.4132079999999999\n",
      "priors 0.5 0.5\n"
     ]
    }
   ],
   "source": [
    "mean_x1 = calc_mean(x_1)\n",
    "mean_x2 = calc_mean(x_2)\n",
    "prior_x1 = calc_prior(x_1)\n",
    "prior_x2 = calc_prior(x_2)\n",
    "\n",
    "print('mean x1', mean_x1) \n",
    "print('mean x2', mean_x2)\n",
    "print('priors', prior_x1, prior_x2)"
   ]
  },
  {
   "cell_type": "code",
   "execution_count": 126,
   "id": "58d3bfc2",
   "metadata": {},
   "outputs": [
    {
     "name": "stdout",
     "output_type": "stream",
     "text": [
      "35\n"
     ]
    }
   ],
   "source": [
    "c_classification = 0\n",
    "\n",
    "for key, value in expo_dict.items():\n",
    "    discriminant_1 = discriminant(key, prior_x1, mean_x1)\n",
    "    discriminant_2 = discriminant(key, prior_x2, mean_x2)\n",
    "\n",
    "    if discriminant_1 > discriminant_2 and value == 0:\n",
    "        c_classification += 1\n",
    "    elif discriminant_1 < discriminant_2 and value == 1:\n",
    "        c_classification +=1\n",
    "\n",
    "print(c_classification)"
   ]
  },
  {
   "cell_type": "markdown",
   "metadata": {},
   "source": [
    "#### Number of correctly classified instances"
   ]
  },
  {
   "cell_type": "code",
   "execution_count": 127,
   "metadata": {},
   "outputs": [
    {
     "name": "stdout",
     "output_type": "stream",
     "text": [
      "number of correctly classified instance 35 out of 50\n"
     ]
    }
   ],
   "source": [
    "print('number of correctly classified instance ' + str(c_classification) + ' out of ' + str(len(expo_dict)))"
   ]
  }
 ],
 "metadata": {
  "kernelspec": {
   "display_name": "Python 3",
   "language": "python",
   "name": "python3"
  },
  "language_info": {
   "codemirror_mode": {
    "name": "ipython",
    "version": 3
   },
   "file_extension": ".py",
   "mimetype": "text/x-python",
   "name": "python",
   "nbconvert_exporter": "python",
   "pygments_lexer": "ipython3",
   "version": "3.9.7"
  },
  "toc": {
   "base_numbering": 1,
   "nav_menu": {},
   "number_sections": true,
   "sideBar": true,
   "skip_h1_title": false,
   "title_cell": "Table of Contents",
   "title_sidebar": "Contents",
   "toc_cell": false,
   "toc_position": {},
   "toc_section_display": true,
   "toc_window_display": false
  }
 },
 "nbformat": 4,
 "nbformat_minor": 5
}
