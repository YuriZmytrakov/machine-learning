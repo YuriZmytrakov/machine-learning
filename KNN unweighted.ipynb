{
 "cells": [
  {
   "cell_type": "code",
   "execution_count": 179,
   "metadata": {},
   "outputs": [],
   "source": [
    "import numpy as np\n",
    "import pandas as pd\n",
    "import matplotlib.pyplot as plt\n",
    "from sklearn.datasets import make_blobs\n",
    "import math\n",
    "\n",
    "def euclidean_distance(train, test):\n",
    "\tdistance = 0\n",
    "\tfor i in range(len(train)-1):\n",
    "\t\tdistance += (train[i] - test[i])**2\n",
    "\treturn math.sqrt(distance)\n",
    "\n",
    "def manhattan_distance(train, test):\n",
    "\tdistance = 0\n",
    "\tfor i in range(len(train)-1):\n",
    "\t\tdistance += abs(train[i] - test[i])\n",
    "\treturn distance"
   ]
  },
  {
   "cell_type": "code",
   "execution_count": 180,
   "metadata": {},
   "outputs": [],
   "source": [
    "#unweighted KNN\n",
    "def get_neighbors_unweighted(train, test, num_neighbors):\n",
    "\tdistances = list()\n",
    "\tfor train_row in train:\n",
    "\t\tdist = manhattan_distance(test, train_row)\n",
    "\t\tdistances.append((train_row, dist))\n",
    "\tdistances.sort(key=lambda tup: tup[1])\n",
    "\tneighbors = list()\n",
    "\tfor i in range(num_neighbors):\n",
    "\t\tneighbors.append(distances[i][0])\n",
    "\treturn neighbors"
   ]
  },
  {
   "cell_type": "code",
   "execution_count": 181,
   "metadata": {},
   "outputs": [
    {
     "name": "stdout",
     "output_type": "stream",
     "text": [
      "2\n"
     ]
    }
   ],
   "source": [
    "train = {(1, 1): 1, (1, 2):1, (1, 3):1, (1.5, 2.5):1, (2, 1):1, (6, 3):2, (6, 4):2, (7, 3.5):2, (8, 3):2, (8, 4.5):2}\n",
    "test = {(10,10)}\n",
    "for t in test:\n",
    "\tneighbors = get_neighbors_unweighted(train, t, 3)\n",
    "\tclasses = []\n",
    "\tfor key, value in train.items():\n",
    "\t\tif key in neighbors:\n",
    "\t\t\tclasses.append(value)\n",
    "print(max(set(classes), key = classes.count))"
   ]
  }
 ],
 "metadata": {
  "interpreter": {
   "hash": "aee8b7b246df8f9039afb4144a1f6fd8d2ca17a180786b69acc140d282b71a49"
  },
  "kernelspec": {
   "display_name": "Python 3.9.7 64-bit",
   "language": "python",
   "name": "python3"
  },
  "language_info": {
   "codemirror_mode": {
    "name": "ipython",
    "version": 3
   },
   "file_extension": ".py",
   "mimetype": "text/x-python",
   "name": "python",
   "nbconvert_exporter": "python",
   "pygments_lexer": "ipython3",
   "version": "3.9.7"
  },
  "orig_nbformat": 4
 },
 "nbformat": 4,
 "nbformat_minor": 2
}
