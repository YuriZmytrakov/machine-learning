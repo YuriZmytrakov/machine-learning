{
 "cells": [
  {
   "cell_type": "code",
   "execution_count": 241,
   "metadata": {},
   "outputs": [],
   "source": [
    "import numpy as np\n",
    "import pandas as pd"
   ]
  },
  {
   "cell_type": "code",
   "execution_count": 242,
   "metadata": {},
   "outputs": [],
   "source": [
    "def node_entropy(x):\n",
    "    ent = 0\n",
    "    #labels 0 1\n",
    "    for i in range(2):\n",
    "        class_count=len(x[x[:,2]==int(i)])\n",
    "        try:\n",
    "            #get the probability of each class\n",
    "            pmi = class_count/x.shape[0]\n",
    "        except:\n",
    "            pmi = 0\n",
    "        if pmi != 0:\n",
    "            #calculating entropy\n",
    "            ent -= (pmi)*np.log2(pmi)\n",
    "        else:\n",
    "            pass\n",
    "    return ent"
   ]
  },
  {
   "cell_type": "code",
   "execution_count": 243,
   "metadata": {},
   "outputs": [],
   "source": [
    "def split_entropy(x, val, i):\n",
    "    lmp = 0\n",
    "    left_branch = x[x[:, i] <= val]\n",
    "    right_branch = x[x[:, i] > val]\n",
    "    lmp += (left_branch.shape[0]/x.shape[0]) * node_entropy(left_branch)\n",
    "    lmp += (right_branch.shape[0]/x.shape[0]) * node_entropy(right_branch)\n",
    "    return lmp"
   ]
  },
  {
   "cell_type": "code",
   "execution_count": 244,
   "metadata": {},
   "outputs": [],
   "source": [
    "def split_attribute(x):\n",
    "    minent = np.inf\n",
    "    for i in range(2):\n",
    "        for val in x[:, int(i)]:\n",
    "            ent = split_entropy(x, val, i)\n",
    "            if ent < minent:\n",
    "                minent = ent\n",
    "                best_f = i\n",
    "                threshold = val\n",
    "    return (best_f, threshold)"
   ]
  },
  {
   "cell_type": "code",
   "execution_count": 245,
   "metadata": {},
   "outputs": [],
   "source": [
    "def generate_tree(x, theta=0):\n",
    "    if node_entropy(x) <= theta:\n",
    "        entropy = node_entropy(x)\n",
    "        majority_class = 1 if x[x[:,2] == 1].shape[0] > x[x[:,2] == 2].shape[0] else 0\n",
    "        return (majority_class, entropy, None)\n",
    "    else:\n",
    "        i, xi = split_attribute(x) # attribute idx and split entropy\n",
    "\n",
    "        Tree = {}\n",
    "        x_left = x[x[:, int(i)] <= xi]\n",
    "        x_right = x[x[:, int(i)] > xi]\n",
    "\n",
    "        Tree[(i, xi, True)] = generate_tree(x_left) # Left branch\n",
    "        Tree[(i, xi, False)] = generate_tree(x_right) # Right branch\n",
    "\n",
    "        return Tree"
   ]
  },
  {
   "cell_type": "code",
   "execution_count": 246,
   "metadata": {},
   "outputs": [],
   "source": [
    "def classify_point(Tree, point):\n",
    "    \n",
    "    if type(Tree) != dict:\n",
    "        return Tree\n",
    "    else:\n",
    "        for d in Tree:\n",
    "            i, x, binary = d\n",
    "\n",
    "        if point[int(i)] <= x:\n",
    "            return classify_point(Tree[(i, x, True)], point)\n",
    "        else:\n",
    "            return classify_point(Tree[(i, x, False)], point)"
   ]
  },
  {
   "cell_type": "code",
   "execution_count": 247,
   "metadata": {},
   "outputs": [],
   "source": [
    "def check_accuracy(Tree, X_check):\n",
    "    right = 0\n",
    "\n",
    "    total = 0\n",
    "    for i in X_check:\n",
    "        print('Data',i[0], i[1], i[2])\n",
    "        print('Tree ',classify_point(Tree, i[:2]))\n",
    "        if classify_point(Tree, i[:2])[0] == i[2]: \n",
    "            right += 1\n",
    "        total +=1\n",
    "    return right/total"
   ]
  },
  {
   "cell_type": "code",
   "execution_count": 248,
   "metadata": {},
   "outputs": [],
   "source": [
    "X = np.array([[2,1,0], [1,2,0], [1.5,3,1], [3,3, 1], [4,4,1]])\n",
    "X_test = np.array([[0.5,0.5,1], [2,6,0]])\n",
    "Tree = generate_tree(X)"
   ]
  },
  {
   "cell_type": "code",
   "execution_count": 249,
   "metadata": {},
   "outputs": [
    {
     "data": {
      "text/plain": [
       "{(1, 2.0, True): (0, 0.0, None), (1, 2.0, False): (1, 0.0, None)}"
      ]
     },
     "execution_count": 249,
     "metadata": {},
     "output_type": "execute_result"
    }
   ],
   "source": [
    "Tree"
   ]
  },
  {
   "cell_type": "code",
   "execution_count": 250,
   "metadata": {},
   "outputs": [
    {
     "data": {
      "text/plain": [
       "array([[0.5, 0.5, 1. ],\n",
       "       [2. , 6. , 0. ]])"
      ]
     },
     "execution_count": 250,
     "metadata": {},
     "output_type": "execute_result"
    }
   ],
   "source": [
    "X_test"
   ]
  },
  {
   "cell_type": "code",
   "execution_count": 251,
   "metadata": {},
   "outputs": [
    {
     "name": "stdout",
     "output_type": "stream",
     "text": [
      "Data 3.0 2.1 1.0\n",
      "Tree  (1, 0.0, None)\n",
      "Data 0.5 0.5 0.0\n",
      "Tree  (0, 0.0, None)\n",
      "1.0\n"
     ]
    }
   ],
   "source": [
    "print(check_accuracy(Tree, np.array([[3,2.1,1], [0.5,0.5,0]])))"
   ]
  },
  {
   "cell_type": "code",
   "execution_count": 252,
   "metadata": {},
   "outputs": [
    {
     "data": {
      "text/plain": [
       "{(1, 2.0, True): (0, 0.0, None), (1, 2.0, False): (1, 0.0, None)}"
      ]
     },
     "execution_count": 252,
     "metadata": {},
     "output_type": "execute_result"
    }
   ],
   "source": [
    "Tree"
   ]
  }
 ],
 "metadata": {
  "interpreter": {
   "hash": "aee8b7b246df8f9039afb4144a1f6fd8d2ca17a180786b69acc140d282b71a49"
  },
  "kernelspec": {
   "display_name": "Python 3.9.7 64-bit",
   "language": "python",
   "name": "python3"
  },
  "language_info": {
   "codemirror_mode": {
    "name": "ipython",
    "version": 3
   },
   "file_extension": ".py",
   "mimetype": "text/x-python",
   "name": "python",
   "nbconvert_exporter": "python",
   "pygments_lexer": "ipython3",
   "version": "3.9.7"
  },
  "orig_nbformat": 4
 },
 "nbformat": 4,
 "nbformat_minor": 2
}
