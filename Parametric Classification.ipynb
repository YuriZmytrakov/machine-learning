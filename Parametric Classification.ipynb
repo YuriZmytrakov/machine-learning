{
 "cells": [
  {
   "cell_type": "code",
   "execution_count": 4,
   "metadata": {},
   "outputs": [],
   "source": [
    "import math\n",
    "normal_data_dict = {-0.276 : 1, -0.098: 0, -0.015: 0, -0.01: 0, 0.012: 0 , 0.014: 0,\n",
    "0.04: 0, 0.041: 0, 0.044: 0 , 0.076: 0, 0.095: 0, 0.098: 0, 0.145: 0, 0.167: 0, 0.187: 0, \n",
    "0.224: 0, 0.273: 1, 0.573: 1, 0.629 : 1, 0.897:1 ,0.906: 1, 1.023: 1, 1.157: 1, \n",
    "1.167:1 ,1.372: 1, 1.432: 1, 1.735: 1, 1.747: 1, 1.766: 1, 2.135:1}"
   ]
  },
  {
   "cell_type": "code",
   "execution_count": 5,
   "metadata": {},
   "outputs": [],
   "source": [
    "x1 = [val for val in normal_data_dict.keys() if normal_data_dict[val] == 0]\n",
    "x2 = [val for val in normal_data_dict.keys() if normal_data_dict[val] == 1]\n",
    "r1 = [0]*len(x1) #for class label0\n",
    "r2 = [1]*len(x2) #for class label1"
   ]
  },
  {
   "cell_type": "code",
   "execution_count": 6,
   "metadata": {},
   "outputs": [
    {
     "name": "stdout",
     "output_type": "stream",
     "text": [
      "Mean 0.068\n",
      "Numpy MEAN: 0.068\n",
      "Variance s1: 0.007\n",
      "0.006972666666666666\n"
     ]
    }
   ],
   "source": [
    "import numpy as np\n",
    "#variance class 1\n",
    "\n",
    "m1 = sum(x1) / len(r1)\n",
    "print('Mean', m1)\n",
    "print('Numpy MEAN:', np.mean(x1))\n",
    "\n",
    "var_res1 = sum((xi - m1) ** 2 for xi in x1) / len(r1)\n",
    "std1 = math.sqrt(var_res1)\n",
    "print('Variance s1:', round(var_res1,3))\n",
    "print(np.var(x1))\n"
   ]
  },
  {
   "cell_type": "code",
   "execution_count": 7,
   "metadata": {},
   "outputs": [
    {
     "name": "stdout",
     "output_type": "stream",
     "text": [
      "Mean 1.1024\n",
      "Numpy MEAN: 1.1023999999999998\n",
      "Variance s2: 0.379\n",
      "0.3793415733333333\n"
     ]
    }
   ],
   "source": [
    "#variance class 2\n",
    "m2 = sum(x2) / len(r2)\n",
    "print('Mean', m2)\n",
    "print('Numpy MEAN:', np.mean(x2))\n",
    "\n",
    "var_res2 = sum((xi - m2) ** 2 for xi in x2) / len(r2)\n",
    "std2 = math.sqrt(var_res2)\n",
    "print('Variance s2:', round(var_res2,3))\n",
    "print(np.var(x2))"
   ]
  },
  {
   "cell_type": "code",
   "execution_count": 14,
   "metadata": {},
   "outputs": [
    {
     "data": {
      "image/png": "[encoded data removed]",
      "text/plain": [
       "<Figure size 432x288 with 1 Axes>"
      ]
     },
     "metadata": {
      "needs_background": "light"
     },
     "output_type": "display_data"
    },
    {
     "name": "stdout",
     "output_type": "stream",
     "text": [
      "Healthy: 4.439\n",
      "Sick: 0.172\n"
     ]
    }
   ],
   "source": [
    "from scipy.stats import norm\n",
    "import numpy as np\n",
    "import matplotlib.pyplot as plt\n",
    "import math\n",
    "import random\n",
    "import sys\n",
    "import scipy.stats\n",
    "\n",
    "def plot_normal(gloc, gscale):\n",
    "    x = np.linspace(0,8,1000) #creating 1000 instances between 0-8\n",
    "    y = norm.pdf(x, loc=gloc, scale=gscale)    #gloc is mu(medium value), gscale is sigma standartd deviation\n",
    "    plt.plot(x,y)\n",
    "    axes = plt.gca() #get current axes\n",
    "    axes.set_ylim([0,0.6]) #Y axis\n",
    "    plt.show()\n",
    "\n",
    "# assume normal distribution\n",
    "x_c1_mu = m1 #median value of distribution 1\n",
    "x_c1_sigma = std1 #standard deviation\n",
    "x_c2_mu = m2 #median value of distribution 2\n",
    "x_c2_sigma = std2 #standard deviation\n",
    "\n",
    "x = np.linspace(0,3,1000)\n",
    "y1 = norm.pdf(x, loc=x_c1_mu, scale=x_c1_sigma)\n",
    "y2 = norm.pdf(x, loc=x_c2_mu, scale=x_c2_sigma)\n",
    "plt.plot(x,y1)\n",
    "plt.plot(x,y2)\n",
    "plt.show()\n",
    "print('Healthy:', round(scipy.stats.norm(x_c1_mu, x_c1_sigma).pdf(0.1),3)) #probability density function for continious variables\n",
    "print('Sick:', round(scipy.stats.norm(x_c2_mu, x_c2_sigma).pdf(0.1),3))"
   ]
  }
 ],
 "metadata": {
  "interpreter": {
   "hash": "aee8b7b246df8f9039afb4144a1f6fd8d2ca17a180786b69acc140d282b71a49"
  },
  "kernelspec": {
   "display_name": "Python 3.9.7 64-bit",
   "name": "python3"
  },
  "language_info": {
   "codemirror_mode": {
    "name": "ipython",
    "version": 3
   },
   "file_extension": ".py",
   "mimetype": "text/x-python",
   "name": "python",
   "nbconvert_exporter": "python",
   "pygments_lexer": "ipython3",
   "version": "3.9.7"
  },
  "orig_nbformat": 4
 },
 "nbformat": 4,
 "nbformat_minor": 2
}
