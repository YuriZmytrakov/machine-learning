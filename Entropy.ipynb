{
 "cells": [
  {
   "cell_type": "code",
   "execution_count": 1,
   "metadata": {},
   "outputs": [
    {
     "data": {
      "text/plain": [
       "(0.9709505944546686, 0.8796731482129885, 0.963547202339972)"
      ]
     },
     "execution_count": 1,
     "metadata": {},
     "output_type": "execute_result"
    }
   ],
   "source": [
    "import math\n",
    "\n",
    "parent = (-6/10)*math.log2(6/10) - (4/10)*math.log2(4/10)\n",
    "\n",
    "A_Up = (-5/7)*math.log2(5/7) - (2/7)*math.log2(2/7)\n",
    "A_Down = (-1/3)*math.log2(1/3) - (2/3)*math.log2(2/3)\n",
    "A = (7/10)*A_Up + (3/10)*A_Down\n",
    "\n",
    "B_Left = (-5/8)*math.log2(5/8) - (3/8)*math.log2(3/8)\n",
    "B_Right = (-1/2)*math.log2(1/2) - (1/2)*math.log2(1/2)\n",
    "B = (8/10)*B_Left + (2/10)*B_Right\n",
    "\n",
    "parent, A, B"
   ]
  },
  {
   "cell_type": "code",
   "execution_count": 2,
   "metadata": {},
   "outputs": [
    {
     "data": {
      "text/plain": [
       "(0.0912774462416801, 0.007403392114696539)"
      ]
     },
     "execution_count": 2,
     "metadata": {},
     "output_type": "execute_result"
    }
   ],
   "source": [
    "IG_A = parent - A\n",
    "IG_B = parent - B\n",
    "IG_A, IG_B"
   ]
  }
 ],
 "metadata": {
  "interpreter": {
   "hash": "aee8b7b246df8f9039afb4144a1f6fd8d2ca17a180786b69acc140d282b71a49"
  },
  "kernelspec": {
   "display_name": "Python 3.9.7 64-bit",
   "language": "python",
   "name": "python3"
  },
  "language_info": {
   "codemirror_mode": {
    "name": "ipython",
    "version": 3
   },
   "file_extension": ".py",
   "mimetype": "text/x-python",
   "name": "python",
   "nbconvert_exporter": "python",
   "pygments_lexer": "ipython3",
   "version": "3.9.7"
  },
  "orig_nbformat": 4
 },
 "nbformat": 4,
 "nbformat_minor": 2
}
