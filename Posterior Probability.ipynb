{
 "cells": [
  {
   "cell_type": "code",
   "execution_count": 11,
   "metadata": {},
   "outputs": [],
   "source": [
    "import numpy as np\n",
    "import matplotlib.pyplot as plt\n",
    "import math\n",
    "import random\n",
    "import sys\n",
    "import scipy.stats"
   ]
  },
  {
   "cell_type": "code",
   "execution_count": 12,
   "metadata": {},
   "outputs": [],
   "source": [
    "from scipy.stats import norm\n",
    "\n",
    "def plot_normal(gloc, gscale):\n",
    "    x = np.linspace(0,10,1000)\n",
    "    y = norm.pdf(x, loc=gloc, scale=gscale)    # for example\n",
    "    plt.plot(x,y)\n",
    "    axes = plt.gca()\n",
    "    axes.set_ylim([0,0.6])\n",
    "    plt.show()"
   ]
  },
  {
   "cell_type": "code",
   "execution_count": 13,
   "metadata": {},
   "outputs": [],
   "source": [
    "pi_1 = 0.3\n",
    "pi_2 = 0.7\n",
    "\n",
    "# assume normal distribution\n",
    "x_c2_mu = 4.5\n",
    "x_c2_sigma = 0.9\n",
    "x_c1_mu = 7.0\n",
    "x_c1_sigma = 1.2\n",
    "\n",
    "x_obs = 5.5"
   ]
  },
  {
   "cell_type": "code",
   "execution_count": 14,
   "metadata": {},
   "outputs": [
    {
     "data": {
      "image/png": "[encoded data removed]",
      "text/plain": [
       "<Figure size 432x288 with 1 Axes>"
      ]
     },
     "metadata": {
      "needs_background": "light"
     },
     "output_type": "display_data"
    }
   ],
   "source": [
    "x = np.linspace(0,10,1000)\n",
    "y1 = norm.pdf(x, loc=x_c1_mu, scale=x_c1_sigma)\n",
    "y2 = norm.pdf(x, loc=x_c2_mu, scale=x_c2_sigma)\n",
    "plt.plot(x,y1)\n",
    "plt.plot(x,y2)\n",
    "plt.show()"
   ]
  },
  {
   "cell_type": "code",
   "execution_count": 15,
   "metadata": {},
   "outputs": [
    {
     "data": {
      "text/plain": [
       "(0.046, 0.167)"
      ]
     },
     "execution_count": 15,
     "metadata": {},
     "output_type": "execute_result"
    }
   ],
   "source": [
    "posterior_c1 = round(scipy.stats.norm(x_c1_mu, x_c1_sigma).pdf(x_obs)*pi_1,3)\n",
    "posterior_c2 = round(scipy.stats.norm(x_c2_mu, x_c2_sigma).pdf(x_obs)*pi_2,3)\n",
    "posterior_c1, posterior_c2"
   ]
  },
  {
   "cell_type": "code",
   "execution_count": 16,
   "metadata": {},
   "outputs": [
    {
     "data": {
      "text/plain": [
       "2"
      ]
     },
     "execution_count": 16,
     "metadata": {},
     "output_type": "execute_result"
    }
   ],
   "source": [
    "if(posterior_c1 > posterior_c2):\n",
    "    predicted_c = 1\n",
    "else:\n",
    "    predicted_c = 2\n",
    "predicted_c"
   ]
  },
  {
   "cell_type": "code",
   "execution_count": 17,
   "metadata": {},
   "outputs": [
    {
     "name": "stdout",
     "output_type": "stream",
     "text": [
      "Decision boundary 6.05\n"
     ]
    }
   ],
   "source": [
    "for val in np.arange(0.0, 10.0, 0.01):\n",
    "    posterior_c1 = round(scipy.stats.norm(x_c1_mu, x_c1_sigma).pdf(val)*pi_1,3)\n",
    "    posterior_c2 = round(scipy.stats.norm(x_c2_mu, x_c2_sigma).pdf(val)*pi_2,3)\n",
    "    if(posterior_c1 > posterior_c2):\n",
    "        print(\"Decision boundary\",val)\n",
    "        break"
   ]
  }
 ],
 "metadata": {
  "interpreter": {
   "hash": "aee8b7b246df8f9039afb4144a1f6fd8d2ca17a180786b69acc140d282b71a49"
  },
  "kernelspec": {
   "display_name": "Python 3.9.7 64-bit",
   "language": "python",
   "name": "python3"
  },
  "language_info": {
   "codemirror_mode": {
    "name": "ipython",
    "version": 3
   },
   "file_extension": ".py",
   "mimetype": "text/x-python",
   "name": "python",
   "nbconvert_exporter": "python",
   "pygments_lexer": "ipython3",
   "version": "3.9.7"
  },
  "orig_nbformat": 4
 },
 "nbformat": 4,
 "nbformat_minor": 2
}
