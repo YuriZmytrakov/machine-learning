{
 "cells": [
  {
   "cell_type": "code",
   "execution_count": 13,
   "metadata": {},
   "outputs": [],
   "source": [
    "import numpy as np\n",
    "import pandas as pd\n",
    "from math import sqrt\n",
    "import math\n",
    "from random import shuffle\n",
    "import random\n",
    "random.seed(0)\n",
    "import sys\n",
    "import scipy.stats\n",
    "import matplotlib.pyplot as plt\n",
    "import seaborn as sns\n",
    "from sklearn.datasets import make_blobs"
   ]
  },
  {
   "cell_type": "code",
   "execution_count": 14,
   "metadata": {},
   "outputs": [
    {
     "data": {
      "text/plain": [
       "(array([[ 5.56882895, -0.11816047],\n",
       "        [-4.49099384, -0.44566851],\n",
       "        [-5.6716827 ,  0.07397153],\n",
       "        [ 1.6606012 , -2.24117695],\n",
       "        [ 1.68693692, -2.85321127],\n",
       "        [-6.19759194, -2.44379203],\n",
       "        [ 2.39611538, -1.13326222],\n",
       "        [ 3.67710737, -0.66809018],\n",
       "        [-9.48475708, -1.17740246],\n",
       "        [-7.28855145, -1.1020176 ]]),\n",
       " array([1, 0, 0, 1, 1, 0, 1, 1, 0, 0]))"
      ]
     },
     "execution_count": 14,
     "metadata": {},
     "output_type": "execute_result"
    }
   ],
   "source": [
    "#x2d, y2d_true = make_blobs(n_samples=10, centers=2, cluster_std=1, n_features=2)\n",
    "c0 = [-5,  0]\n",
    "c1 = [5, 0]\n",
    "cc = [c0,c1]\n",
    "x2d, y2d_true"
   ]
  },
  {
   "cell_type": "code",
   "execution_count": 15,
   "metadata": {},
   "outputs": [
    {
     "data": {
      "text/plain": [
       "<matplotlib.collections.PathCollection at 0x7fe6031a9b20>"
      ]
     },
     "execution_count": 15,
     "metadata": {},
     "output_type": "execute_result"
    },
    {
     "data": {
      "image/png": "[encoded data removed]",
      "text/plain": [
       "<Figure size 432x288 with 1 Axes>"
      ]
     },
     "metadata": {
      "needs_background": "light"
     },
     "output_type": "display_data"
    }
   ],
   "source": [
    "plt.scatter(x2d[:,0],x2d[:,1])\n",
    "plt.scatter(c0[0],c0[1], marker='X')\n",
    "plt.scatter(c1[0],c1[1], marker='X')"
   ]
  },
  {
   "cell_type": "code",
   "execution_count": 21,
   "metadata": {},
   "outputs": [],
   "source": [
    "def cosine_distance(cc, p):\n",
    "    numerator = 0\n",
    "    sum_x = 0\n",
    "    sum_y = 0\n",
    "    for a,b in zip(cc,p):\n",
    "        numerator+=sum([a*b])\n",
    "        sum_x+=sum([a**2])\n",
    "        sum_y += sum([b**2])\n",
    "    denominator = sqrt(sum_x)*sqrt(sum_y)\n",
    "    return 1 - (numerator/denominator)"
   ]
  },
  {
   "cell_type": "code",
   "execution_count": 22,
   "metadata": {},
   "outputs": [],
   "source": [
    "def predict_cluster_center_cosine(centre_point, points):\n",
    "    min_distance = float('inf')\n",
    "    center_i = 0\n",
    "    for i, c in enumerate(centre_point):\n",
    "        temp_distance = cosine_distance(c, points)\n",
    "        if temp_distance < min_distance:\n",
    "            min_distance = temp_distance\n",
    "            center_i = i\n",
    "    return center_i"
   ]
  },
  {
   "cell_type": "code",
   "execution_count": 23,
   "metadata": {},
   "outputs": [
    {
     "name": "stdout",
     "output_type": "stream",
     "text": [
      "old centres -> [[-5, 0], [5, 0]]\n",
      "iter -> 0\n",
      "[[-6.626715404210411, -1.018981816742622], [2.9979179621618073, -1.4027802175399011]]\n",
      "iter -> 1\n",
      "[[-6.626715404210411, -1.018981816742622], [2.9979179621618073, -1.4027802175399011]]\n",
      "iter -> 2\n",
      "[[-6.626715404210411, -1.018981816742622], [2.9979179621618073, -1.4027802175399011]]\n",
      "iter -> 3\n",
      "[[-6.626715404210411, -1.018981816742622], [2.9979179621618073, -1.4027802175399011]]\n"
     ]
    }
   ],
   "source": [
    "import math\n",
    "n_iter = 4\n",
    "\n",
    "print('old centres ->', cc)\n",
    "for n in range(n_iter):\n",
    "    print('iter ->', n)\n",
    "    y_predict = {}\n",
    "    clusters = {k: [] for k in range(len(cc))} #{0: [], 1: []}\n",
    "\n",
    "    for i, x in enumerate(x2d):\n",
    "        y_predict[i] = predict_cluster_center_cosine(cc, x)\n",
    "        clusters[y_predict[i]].append(list(x))\n",
    "        \n",
    "    new_centers = [None]*len(cc)\n",
    "    for i in range(len(new_centers)):\n",
    "        new_centers[i] = list(np.mean(clusters[i], axis=0))\n",
    "\n",
    "    # # check convergence\n",
    "    print(new_centers)\n",
    "    diff = sum(sum(abs(np.array(cc) - np.array(new_centers))))\n",
    "    if diff > 0:\n",
    "        centers = new_centers\n",
    "    else:\n",
    "        print(\"CONVERGED!\")\n",
    "        break"
   ]
  },
  {
   "cell_type": "code",
   "execution_count": 24,
   "metadata": {},
   "outputs": [
    {
     "name": "stdout",
     "output_type": "stream",
     "text": [
      "[1 0 0 1 1 0 1 1 0 0]\n",
      "[1, 0, 0, 1, 1, 0, 1, 1, 0, 0]\n"
     ]
    },
    {
     "data": {
      "text/plain": [
       "[[-6.626715404210411, -1.018981816742622],\n",
       " [2.9979179621618073, -1.4027802175399011]]"
      ]
     },
     "execution_count": 24,
     "metadata": {},
     "output_type": "execute_result"
    }
   ],
   "source": [
    "print(y2d_true)\n",
    "l = [k for val, k in y_predict.items()]\n",
    "print(l)\n",
    "new_centers"
   ]
  },
  {
   "cell_type": "code",
   "execution_count": 25,
   "metadata": {},
   "outputs": [
    {
     "data": {
      "text/plain": [
       "<matplotlib.collections.PathCollection at 0x7fe60331e730>"
      ]
     },
     "execution_count": 25,
     "metadata": {},
     "output_type": "execute_result"
    },
    {
     "data": {
      "image/png": "[encoded data removed]",
      "text/plain": [
       "<Figure size 432x288 with 1 Axes>"
      ]
     },
     "metadata": {
      "needs_background": "light"
     },
     "output_type": "display_data"
    }
   ],
   "source": [
    "plt.scatter(x2d[:,0],x2d[:,1])\n",
    "plt.scatter(new_centers[0][0],new_centers[0][1], marker='X')\n",
    "plt.scatter(new_centers[1][0],new_centers[1][1], marker='X')"
   ]
  }
 ],
 "metadata": {
  "interpreter": {
   "hash": "aee8b7b246df8f9039afb4144a1f6fd8d2ca17a180786b69acc140d282b71a49"
  },
  "kernelspec": {
   "display_name": "Python 3.9.7 64-bit",
   "language": "python",
   "name": "python3"
  },
  "language_info": {
   "codemirror_mode": {
    "name": "ipython",
    "version": 3
   },
   "file_extension": ".py",
   "mimetype": "text/x-python",
   "name": "python",
   "nbconvert_exporter": "python",
   "pygments_lexer": "ipython3",
   "version": "3.9.7"
  },
  "orig_nbformat": 4
 },
 "nbformat": 4,
 "nbformat_minor": 2
}
